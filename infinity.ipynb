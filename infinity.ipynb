{
  "cells": [
    {
      "cell_type": "code",
      "execution_count": null,
      "metadata": {
        "cellView": "form",
        "id": "gWMx7MCMCpdF"
      },
      "outputs": [],
      "source": [
        "#@title cek\n",
        "! nvidia-smi -L"
      ]
    },
    {
      "cell_type": "code",
      "execution_count": null,
      "metadata": {
        "cellView": "form",
        "id": "66zLcU0w2PeH"
      },
      "outputs": [],
      "source": [
        "#@title **Tmate**\n",
        "!pkill -9 tmate\n",
        "!wget -nc https://github.com/tmate-io/tmate/releases/download/2.4.0/tmate-2.4.0-static-linux-i386.tar.xz &> /dev/null\n",
        "!tar --skip-old-files -xvf tmate-2.4.0-static-linux-i386.tar.xz &> /dev/null\n",
        "!rm -f nohup.out; bash -ic 'nohup ./tmate-2.4.0-static-linux-i386/tmate -S /tmp/tmate.sock new-session -d & disown -a' >/dev/null 2>&1\n",
        "!./tmate-2.4.0-static-linux-i386/tmate -S /tmp/tmate.sock wait tmate-ready\n",
        "!./tmate-2.4.0-static-linux-i386/tmate -S /tmp/tmate.sock display -p \"Connect with SSH address: #{tmate_ssh}\"\n",
        "!./tmate-2.4.0-static-linux-i386/tmate -S /tmp/tmate.sock display -p \"Connect with web: #{tmate_web}\""
      ]
    },
    {
      "cell_type": "code",
      "source": [
        "#@title Time Execution \n",
        "import time \n",
        "from IPython.display import clear_output \n",
        " \n",
        "def zero_to_infinity(): \n",
        "    i = 0 \n",
        "    while True: \n",
        "        yield i \n",
        "        i += 1 \n",
        "        time.sleep(1) \n",
        " \n",
        "start = time.time() \n",
        "for x in zero_to_infinity(): \n",
        "    clear_output(wait=True) \n",
        "    end = time.time() \n",
        "    temp = end-start \n",
        "    hours = temp//3600 \n",
        "    temp = temp - 3600*hours \n",
        "    minutes = temp//60 \n",
        "    seconds = temp - 60*minutes \n",
        "    print(\"\") \n",
        "    print('%s %d:%d:%d' %(\"Time execution : \",hours,minutes,seconds)) \n",
        "    print(\"\")"
      ],
      "metadata": {
        "cellView": "form",
        "id": "Ct3wh-ueW1Qz"
      },
      "execution_count": null,
      "outputs": []
    }
  ],
  "metadata": {
    "accelerator": "GPU",
    "colab": {
      "collapsed_sections": [],
      "name": "Puasa2.ipynb",
      "provenance": [],
      "private_outputs": true
    },
    "kernelspec": {
      "display_name": "Python 3",
      "name": "python3"
    },
    "language_info": {
      "name": "python"
    }
  },
  "nbformat": 4,
  "nbformat_minor": 0
}